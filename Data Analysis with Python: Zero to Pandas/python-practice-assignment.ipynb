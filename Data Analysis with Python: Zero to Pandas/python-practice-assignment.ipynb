{
 "cells": [
  {
   "cell_type": "markdown",
   "metadata": {
    "id": "0GOGVf-eZv8u"
   },
   "source": [
    "# Assignment 1 - Python Basics Practice\n",
    "\n",
    "*This assignment is a part of the course [\"Data Analysis with Python: Zero to Pandas\"](https://jovian.ml/learn/data-analysis-with-python-zero-to-pandas)*\n",
    "\n",
    "In this assignment, you'll get to practice some of the concepts and skills covered in the following notebooks:\n",
    "\n",
    "1. [First Steps with Python and Jupyter](https://jovian.ml/aakashns/first-steps-with-python)\n",
    "2. [A Quick Tour of Variables and Data Types](https://jovian.ml/aakashns/python-variables-and-data-types)\n",
    "3. [Branching using Conditional Statements and Loops](https://jovian.ml/aakashns/python-branching-and-loops)\n",
    "\n",
    "\n",
    "As you go through this notebook, you will find the symbol **???** in certain places. To complete this assignment, you must replace all the **???** with appropriate values, expressions or statements to ensure that the notebook runs properly end-to-end. \n",
    "\n",
    "**Guidelines**\n",
    "\n",
    "1. Make sure to run all the code cells, otherwise you may get errors like `NameError` for undefined variables.\n",
    "2. Do not change variable names, delete cells or disturb other existing code. It may cause problems during evaluation.\n",
    "3. In some cases, you may need to add some code cells or new statements before or after the line of code containing the **???**. \n",
    "4. Since you'll be using a free online service for code execution, save your work by running `jovian.commit` at regular intervals.\n",
    "5. Questions marked **(Optional)** will not be considered for evaluation, and can be skipped. They are for your learning.\n",
    "6. If you are stuck, you can ask for help on the course forum. Post errors, ask for hints and help others, but **please don't share the full solution answer code** to give others a chance to write the code themselves.\n",
    "7. After submission your code will be tested with some hidden test cases. Make sure to test your code exhaustively to cover all edge cases.\n",
    "\n",
    "\n",
    "Important Links:\n",
    "\n",
    "* Make submissions here: https://jovian.ml/learn/data-analysis-with-python-zero-to-pandas/assignment/assignment-1-python-basics-practice\n",
    "\n",
    "* Get help on the community forum: https://jovian.ml/forum/t/assignment-1-python-practice/7761 . You can get help with errors or ask for hints, but **please don't ask for or share the full working answer code** on the forum.\n"
   ]
  },
  {
   "cell_type": "markdown",
   "metadata": {
    "id": "UDu-VwmJZv8z"
   },
   "source": [
    "### How to Run the Code and Save Your Work\n",
    "\n",
    "**Option 1: Running using free online resources (1-click, recommended)**: Click the **Run** button at the top of this page and select **Run on Binder**. You can also select \"Run on Colab\" or \"Run on Kaggle\", but you'll need to create an account on [Google Colab](https://colab.research.google.com) or [Kaggle](https://kaggle.com) to use these platforms.\n",
    "\n",
    "\n",
    "**Option 2: Running on your computer locally**: To run the code on your computer locally, you'll need to set up [Python](https://www.python.org) & [Conda](https://docs.conda.io/projects/conda/en/latest/user-guide/install/), download the notebook and install the required libraries. Click the **Run** button at the top of this page, select the **Run Locally** option, and follow the instructions.\n",
    "\n",
    "**Saving your work**: You can save a snapshot of the assignment to your [Jovian](https://jovian.ai) profile, so that you can access it later and continue your work. Keep saving your work by running `jovian.commit` from time to time."
   ]
  },
  {
   "cell_type": "code",
   "execution_count": 1,
   "metadata": {
    "colab": {
     "base_uri": "https://localhost:8080/"
    },
    "executionInfo": {
     "elapsed": 6875,
     "status": "ok",
     "timestamp": 1681486510845,
     "user": {
      "displayName": "Sheikh Iftekhar Ahmed",
      "userId": "05190100816646482527"
     },
     "user_tz": -360
    },
    "id": "w6gPB9PVZv80",
    "outputId": "c3c707c9-ae84-47c7-cc80-ad65c711f59a"
   },
   "outputs": [
    {
     "name": "stdout",
     "output_type": "stream",
     "text": [
      "\u001b[?25l     \u001b[90m━━━━━━━━━━━━━━━━━━━━━━━━━━━━━━━━━━━━━━━━\u001b[0m \u001b[32m0.0/68.6 kB\u001b[0m \u001b[31m?\u001b[0m eta \u001b[36m-:--:--\u001b[0m\r",
      "\u001b[2K     \u001b[90m━━━━━━━━━━━━━━━━━━━━━━━━━━━━━━━━━━━━━━━━\u001b[0m \u001b[32m68.6/68.6 kB\u001b[0m \u001b[31m2.3 MB/s\u001b[0m eta \u001b[36m0:00:00\u001b[0m\n",
      "\u001b[?25h  Preparing metadata (setup.py) ... \u001b[?25l\u001b[?25hdone\n",
      "  Building wheel for uuid (setup.py) ... \u001b[?25l\u001b[?25hdone\n"
     ]
    }
   ],
   "source": [
    "# Install the library\n",
    "!pip install jovian --upgrade --quiet"
   ]
  },
  {
   "cell_type": "code",
   "execution_count": 2,
   "metadata": {
    "executionInfo": {
     "elapsed": 764,
     "status": "ok",
     "timestamp": 1681486515208,
     "user": {
      "displayName": "Sheikh Iftekhar Ahmed",
      "userId": "05190100816646482527"
     },
     "user_tz": -360
    },
    "id": "Nv8PHQpOZv81"
   },
   "outputs": [],
   "source": [
    "# Import it\n",
    "import jovian"
   ]
  },
  {
   "cell_type": "code",
   "execution_count": 3,
   "metadata": {
    "executionInfo": {
     "elapsed": 2,
     "status": "ok",
     "timestamp": 1681486517608,
     "user": {
      "displayName": "Sheikh Iftekhar Ahmed",
      "userId": "05190100816646482527"
     },
     "user_tz": -360
    },
    "id": "DW9MnEXFZv82"
   },
   "outputs": [],
   "source": [
    "project_name='python-practice-assignment'"
   ]
  },
  {
   "cell_type": "code",
   "execution_count": 4,
   "metadata": {
    "colab": {
     "base_uri": "https://localhost:8080/"
    },
    "executionInfo": {
     "elapsed": 9,
     "status": "ok",
     "timestamp": 1681486520585,
     "user": {
      "displayName": "Sheikh Iftekhar Ahmed",
      "userId": "05190100816646482527"
     },
     "user_tz": -360
    },
    "id": "owlIesDxZv82",
    "outputId": "386f408c-bab3-48d7-b4d5-dc40e291a97c"
   },
   "outputs": [
    {
     "name": "stdout",
     "output_type": "stream",
     "text": [
      "[jovian] Detected Colab notebook...\u001b[0m\n",
      "[jovian] jovian.commit() is no longer required on Google Colab. If you ran this notebook from Jovian, \n",
      "then just save this file in Colab using Ctrl+S/Cmd+S and it will be updated on Jovian. \n",
      "Also, you can also delete this cell, it's no longer necessary.\u001b[0m\n"
     ]
    }
   ],
   "source": [
    "# Capture and upload a snapshot\n",
    "jovian.commit(project=project_name, privacy='secret', evironment=None)"
   ]
  },
  {
   "cell_type": "markdown",
   "metadata": {
    "id": "nTb0J4bJZv83"
   },
   "source": [
    "You'll be asked to provide an API Key, to securely upload the notebook to your Jovian.ml account. You can get the API key from your Jovian.ml profile page after logging in / signing up. See the docs for details: https://jovian.ml/docs/user-guide/upload.html . The privacy of your assignment notebook is set to *Secret*, so that you can the evlauators can access it, but it will not shown on your public profile to other users."
   ]
  },
  {
   "cell_type": "markdown",
   "metadata": {
    "id": "bCWqYoCFZv84"
   },
   "source": [
    "## Problem 1 - Variables and Data Types\n",
    "\n",
    "**Q1: Assign your name to the variable `name`.**"
   ]
  },
  {
   "cell_type": "code",
   "execution_count": 5,
   "metadata": {
    "executionInfo": {
     "elapsed": 466,
     "status": "ok",
     "timestamp": 1681486564215,
     "user": {
      "displayName": "Sheikh Iftekhar Ahmed",
      "userId": "05190100816646482527"
     },
     "user_tz": -360
    },
    "id": "Es_-9prIZv84"
   },
   "outputs": [],
   "source": [
    "name = 'Sheikh'"
   ]
  },
  {
   "cell_type": "markdown",
   "metadata": {
    "id": "MyRU-HNoZv84"
   },
   "source": [
    "**Q2: Assign your age (real or fake) to the variable `age`.**"
   ]
  },
  {
   "cell_type": "code",
   "execution_count": 6,
   "metadata": {
    "executionInfo": {
     "elapsed": 425,
     "status": "ok",
     "timestamp": 1681486571332,
     "user": {
      "displayName": "Sheikh Iftekhar Ahmed",
      "userId": "05190100816646482527"
     },
     "user_tz": -360
    },
    "id": "4WUkupN-Zv85"
   },
   "outputs": [],
   "source": [
    "age = 21"
   ]
  },
  {
   "cell_type": "markdown",
   "metadata": {
    "id": "ux2RxpJ2Zv85"
   },
   "source": [
    "**Q3: Assign a boolean value to the variable `has_android_phone`.**"
   ]
  },
  {
   "cell_type": "code",
   "execution_count": 7,
   "metadata": {
    "executionInfo": {
     "elapsed": 7,
     "status": "ok",
     "timestamp": 1681486579003,
     "user": {
      "displayName": "Sheikh Iftekhar Ahmed",
      "userId": "05190100816646482527"
     },
     "user_tz": -360
    },
    "id": "RK-bK5qLZv85"
   },
   "outputs": [],
   "source": [
    "has_android_phone = True"
   ]
  },
  {
   "cell_type": "markdown",
   "metadata": {
    "id": "X6EkJIhaZv85"
   },
   "source": [
    "You can check the values of these variables by running the next cell."
   ]
  },
  {
   "cell_type": "code",
   "execution_count": 8,
   "metadata": {
    "colab": {
     "base_uri": "https://localhost:8080/"
    },
    "executionInfo": {
     "elapsed": 8,
     "status": "ok",
     "timestamp": 1681486581438,
     "user": {
      "displayName": "Sheikh Iftekhar Ahmed",
      "userId": "05190100816646482527"
     },
     "user_tz": -360
    },
    "id": "M25qN0r9Zv86",
    "outputId": "3366278c-6d7c-40d4-de3b-5baf16a522d2"
   },
   "outputs": [
    {
     "data": {
      "text/plain": [
       "('Sheikh', 21, True)"
      ]
     },
     "execution_count": 8,
     "metadata": {},
     "output_type": "execute_result"
    }
   ],
   "source": [
    "name, age, has_android_phone"
   ]
  },
  {
   "cell_type": "markdown",
   "metadata": {
    "id": "773FWA3iZv86"
   },
   "source": [
    "**Q4: Create a dictionary `person` with keys `\"Name\"`, `\"Age\"`, `\"HasAndroidPhone\"` and values using the variables defined above.**"
   ]
  },
  {
   "cell_type": "code",
   "execution_count": 10,
   "metadata": {
    "executionInfo": {
     "elapsed": 3,
     "status": "ok",
     "timestamp": 1681486770852,
     "user": {
      "displayName": "Sheikh Iftekhar Ahmed",
      "userId": "05190100816646482527"
     },
     "user_tz": -360
    },
    "id": "sw-I5kaGZv86"
   },
   "outputs": [],
   "source": [
    "person = {'Name': name, \n",
    "          'Age': age, \n",
    "          'HasAndroidPhone': has_android_phone}"
   ]
  },
  {
   "cell_type": "markdown",
   "metadata": {
    "id": "pKcAdqTnZv86"
   },
   "source": [
    "Let's use the `person` dictionary to print a nice message."
   ]
  },
  {
   "cell_type": "code",
   "execution_count": 11,
   "metadata": {
    "colab": {
     "base_uri": "https://localhost:8080/"
    },
    "executionInfo": {
     "elapsed": 451,
     "status": "ok",
     "timestamp": 1681486796102,
     "user": {
      "displayName": "Sheikh Iftekhar Ahmed",
      "userId": "05190100816646482527"
     },
     "user_tz": -360
    },
    "id": "7OSjo3CBZv86",
    "outputId": "6dd05ff0-2ed3-4c2b-b0ec-1ce08937dbb6"
   },
   "outputs": [
    {
     "name": "stdout",
     "output_type": "stream",
     "text": [
      "Sheikh is aged 21, and owns an Android phone.\n"
     ]
    }
   ],
   "source": [
    "print(\"{} is aged {}, and owns an {}.\".format(\n",
    "    person[\"Name\"], \n",
    "    person[\"Age\"], \n",
    "    \"Android phone\" if person[\"HasAndroidPhone\"] else \"iPhone\"\n",
    "))"
   ]
  },
  {
   "cell_type": "markdown",
   "metadata": {
    "id": "zRPI1frqZv86"
   },
   "source": [
    "**Q4b (Optional): Use a `for` loop to display the `type` of each value stored against each key in `person`.**\n",
    "\n",
    "Here's the expected output for the key `\"Name\"`: \n",
    "\n",
    "```\n",
    "The key \"Name\" has the value \"Derek\" of the type \"<class 'str'>\"\n",
    "```"
   ]
  },
  {
   "cell_type": "code",
   "execution_count": 13,
   "metadata": {
    "colab": {
     "base_uri": "https://localhost:8080/"
    },
    "executionInfo": {
     "elapsed": 427,
     "status": "ok",
     "timestamp": 1681486972684,
     "user": {
      "displayName": "Sheikh Iftekhar Ahmed",
      "userId": "05190100816646482527"
     },
     "user_tz": -360
    },
    "id": "f4bXlC_JZv87",
    "outputId": "5893fde9-ef98-44b8-d7b1-9584c79abd95"
   },
   "outputs": [
    {
     "name": "stdout",
     "output_type": "stream",
     "text": [
      "The key \"Name\" has the value \"Sheikh\" of the type \"<class 'str'>\"\n",
      "The key \"Age\" has the value \"21\" of the type \"<class 'int'>\"\n",
      "The key \"HasAndroidPhone\" has the value \"True\" of the type \"<class 'bool'>\"\n"
     ]
    }
   ],
   "source": [
    "# this is optional\n",
    "for i in person.keys():\n",
    "  print('The key \"{}\" has the value \"{}\" of the type \"{}\"'.format(i, person[i], type(person[i])))"
   ]
  },
  {
   "cell_type": "markdown",
   "metadata": {
    "id": "vqwa-82LZv87"
   },
   "source": [
    "Now that you've solved one problem, it would be a good idea to record a snapshot of your notebook."
   ]
  },
  {
   "cell_type": "code",
   "execution_count": 14,
   "metadata": {
    "colab": {
     "base_uri": "https://localhost:8080/"
    },
    "executionInfo": {
     "elapsed": 430,
     "status": "ok",
     "timestamp": 1681486996079,
     "user": {
      "displayName": "Sheikh Iftekhar Ahmed",
      "userId": "05190100816646482527"
     },
     "user_tz": -360
    },
    "id": "Hhvn4hTSZv87",
    "outputId": "793b0cb5-7430-453c-c05b-d6043051925d"
   },
   "outputs": [
    {
     "name": "stdout",
     "output_type": "stream",
     "text": [
      "[jovian] Detected Colab notebook...\u001b[0m\n",
      "[jovian] jovian.commit() is no longer required on Google Colab. If you ran this notebook from Jovian, \n",
      "then just save this file in Colab using Ctrl+S/Cmd+S and it will be updated on Jovian. \n",
      "Also, you can also delete this cell, it's no longer necessary.\u001b[0m\n"
     ]
    }
   ],
   "source": [
    "jovian.commit(project=project_name,environment=None)"
   ]
  },
  {
   "cell_type": "markdown",
   "metadata": {
    "id": "ntvQxErZZv87"
   },
   "source": [
    "## Problem 2 - Working with Lists\n",
    "\n",
    "**Q5: Create a list containing the following 3 elements:**\n",
    "\n",
    "* your favorite color\n",
    "* the number of pets you have\n",
    "* a boolean value describing whether you have previous programming experience\n"
   ]
  },
  {
   "cell_type": "code",
   "execution_count": 15,
   "metadata": {
    "executionInfo": {
     "elapsed": 3,
     "status": "ok",
     "timestamp": 1681487114314,
     "user": {
      "displayName": "Sheikh Iftekhar Ahmed",
      "userId": "05190100816646482527"
     },
     "user_tz": -360
    },
    "id": "92D_AgOFZv87"
   },
   "outputs": [],
   "source": [
    "my_list = ['Red', 0, True]"
   ]
  },
  {
   "cell_type": "markdown",
   "metadata": {
    "id": "AQLd5-cgZv88"
   },
   "source": [
    "Let's see what the list looks like:"
   ]
  },
  {
   "cell_type": "code",
   "execution_count": 17,
   "metadata": {
    "colab": {
     "base_uri": "https://localhost:8080/"
    },
    "executionInfo": {
     "elapsed": 9,
     "status": "ok",
     "timestamp": 1681487139656,
     "user": {
      "displayName": "Sheikh Iftekhar Ahmed",
      "userId": "05190100816646482527"
     },
     "user_tz": -360
    },
    "id": "JxgrBMioZv88",
    "outputId": "2034736d-f0ab-40c0-a43b-0a7e5cdce8df"
   },
   "outputs": [
    {
     "name": "stdout",
     "output_type": "stream",
     "text": [
      "['Red', 0, True]\n"
     ]
    }
   ],
   "source": [
    "print(my_list)"
   ]
  },
  {
   "cell_type": "markdown",
   "metadata": {
    "id": "AfT9MtdPZv88"
   },
   "source": [
    "**Q6: Complete the following `print` and `if` statements by accessing the appropriate elements from `my_list`.**\n",
    "\n",
    "*Hint*: Use the list indexing notation `[]`."
   ]
  },
  {
   "cell_type": "code",
   "execution_count": 18,
   "metadata": {
    "colab": {
     "base_uri": "https://localhost:8080/"
    },
    "executionInfo": {
     "elapsed": 583,
     "status": "ok",
     "timestamp": 1681487185422,
     "user": {
      "displayName": "Sheikh Iftekhar Ahmed",
      "userId": "05190100816646482527"
     },
     "user_tz": -360
    },
    "id": "lamk3q5HZv88",
    "outputId": "4e6d5447-696c-4455-dda5-4c61204abb76"
   },
   "outputs": [
    {
     "name": "stdout",
     "output_type": "stream",
     "text": [
      "My favorite color is Red\n"
     ]
    }
   ],
   "source": [
    "print('My favorite color is', my_list[0])"
   ]
  },
  {
   "cell_type": "code",
   "execution_count": 19,
   "metadata": {
    "colab": {
     "base_uri": "https://localhost:8080/"
    },
    "executionInfo": {
     "elapsed": 1,
     "status": "ok",
     "timestamp": 1681487187833,
     "user": {
      "displayName": "Sheikh Iftekhar Ahmed",
      "userId": "05190100816646482527"
     },
     "user_tz": -360
    },
    "id": "Kc2VHxWpZv88",
    "outputId": "643b13e4-48d0-4bc8-bb97-ae89492530bc"
   },
   "outputs": [
    {
     "name": "stdout",
     "output_type": "stream",
     "text": [
      "I have 0 pet(s).\n"
     ]
    }
   ],
   "source": [
    "print('I have {} pet(s).'.format(my_list[1]))"
   ]
  },
  {
   "cell_type": "code",
   "execution_count": 20,
   "metadata": {
    "colab": {
     "base_uri": "https://localhost:8080/"
    },
    "executionInfo": {
     "elapsed": 2,
     "status": "ok",
     "timestamp": 1681487190661,
     "user": {
      "displayName": "Sheikh Iftekhar Ahmed",
      "userId": "05190100816646482527"
     },
     "user_tz": -360
    },
    "id": "0e0I5TrqZv88",
    "outputId": "793ac659-06ad-4f60-bea1-6562b5564b3f"
   },
   "outputs": [
    {
     "name": "stdout",
     "output_type": "stream",
     "text": [
      "I have previous programming experience\n"
     ]
    }
   ],
   "source": [
    "if my_list[2]:\n",
    "    print(\"I have previous programming experience\")\n",
    "else:\n",
    "    print(\"I do not have previous programming experience\")"
   ]
  },
  {
   "cell_type": "markdown",
   "metadata": {
    "id": "M-PnAX2MZv88"
   },
   "source": [
    "**Q7: Add your favorite single digit number to the end of the list using the appropriate list method.**"
   ]
  },
  {
   "cell_type": "code",
   "execution_count": 21,
   "metadata": {
    "executionInfo": {
     "elapsed": 436,
     "status": "ok",
     "timestamp": 1681487205789,
     "user": {
      "displayName": "Sheikh Iftekhar Ahmed",
      "userId": "05190100816646482527"
     },
     "user_tz": -360
    },
    "id": "cMBiGsS1Zv89"
   },
   "outputs": [],
   "source": [
    "my_list.append(7)"
   ]
  },
  {
   "cell_type": "markdown",
   "metadata": {
    "id": "fmYQ2dFGZv89"
   },
   "source": [
    "Let's see if the number shows up in the list."
   ]
  },
  {
   "cell_type": "code",
   "execution_count": 23,
   "metadata": {
    "colab": {
     "base_uri": "https://localhost:8080/"
    },
    "executionInfo": {
     "elapsed": 2,
     "status": "ok",
     "timestamp": 1681487219623,
     "user": {
      "displayName": "Sheikh Iftekhar Ahmed",
      "userId": "05190100816646482527"
     },
     "user_tz": -360
    },
    "id": "ung7gzrRZv89",
    "outputId": "cfe09919-56d5-4ad0-a8c8-6385297e1271"
   },
   "outputs": [
    {
     "name": "stdout",
     "output_type": "stream",
     "text": [
      "['Red', 0, True, 7]\n"
     ]
    }
   ],
   "source": [
    "print(my_list)"
   ]
  },
  {
   "cell_type": "markdown",
   "metadata": {
    "id": "RVknsgqWZv89"
   },
   "source": [
    "**Q8: Remove the first element of the list, using the appropriate list method.**\n",
    "\n",
    "*Hint*: Check out methods of list here: https://www.w3schools.com/python/python_ref_list.asp"
   ]
  },
  {
   "cell_type": "code",
   "execution_count": 24,
   "metadata": {
    "executionInfo": {
     "elapsed": 519,
     "status": "ok",
     "timestamp": 1681487282653,
     "user": {
      "displayName": "Sheikh Iftekhar Ahmed",
      "userId": "05190100816646482527"
     },
     "user_tz": -360
    },
    "id": "9rYCDhVpZv89"
   },
   "outputs": [],
   "source": [
    "my_list.remove('Red')"
   ]
  },
  {
   "cell_type": "code",
   "execution_count": 25,
   "metadata": {
    "colab": {
     "base_uri": "https://localhost:8080/"
    },
    "executionInfo": {
     "elapsed": 6,
     "status": "ok",
     "timestamp": 1681487284788,
     "user": {
      "displayName": "Sheikh Iftekhar Ahmed",
      "userId": "05190100816646482527"
     },
     "user_tz": -360
    },
    "id": "J1WmJfOyZv89",
    "outputId": "e8822fbd-468e-4029-ca4a-8c9ff5b6f97d"
   },
   "outputs": [
    {
     "data": {
      "text/plain": [
       "[0, True, 7]"
      ]
     },
     "execution_count": 25,
     "metadata": {},
     "output_type": "execute_result"
    }
   ],
   "source": [
    "my_list"
   ]
  },
  {
   "cell_type": "markdown",
   "metadata": {
    "id": "fmMKbpYDZv89"
   },
   "source": [
    "**Q9: Complete the `print` statement below to display the number of elements in `my_list`.**"
   ]
  },
  {
   "cell_type": "code",
   "execution_count": 26,
   "metadata": {
    "colab": {
     "base_uri": "https://localhost:8080/"
    },
    "executionInfo": {
     "elapsed": 443,
     "status": "ok",
     "timestamp": 1681487305458,
     "user": {
      "displayName": "Sheikh Iftekhar Ahmed",
      "userId": "05190100816646482527"
     },
     "user_tz": -360
    },
    "id": "l-Xzm9iLZv8-",
    "outputId": "fb06b910-ced3-47cc-f565-1d6f73b0c16a"
   },
   "outputs": [
    {
     "name": "stdout",
     "output_type": "stream",
     "text": [
      "The list has 3 elements.\n"
     ]
    }
   ],
   "source": [
    "print(\"The list has {} elements.\".format(len(my_list)))"
   ]
  },
  {
   "cell_type": "markdown",
   "metadata": {
    "id": "q1dCx_9eZv8-"
   },
   "source": [
    "Well done, you're making good progress! Save your work before continuing"
   ]
  },
  {
   "cell_type": "code",
   "execution_count": 27,
   "metadata": {
    "colab": {
     "base_uri": "https://localhost:8080/"
    },
    "executionInfo": {
     "elapsed": 437,
     "status": "ok",
     "timestamp": 1681487312093,
     "user": {
      "displayName": "Sheikh Iftekhar Ahmed",
      "userId": "05190100816646482527"
     },
     "user_tz": -360
    },
    "id": "9z5yij73Zv8-",
    "outputId": "146479b9-01c3-4f03-b2de-a0a88492e29e"
   },
   "outputs": [
    {
     "name": "stdout",
     "output_type": "stream",
     "text": [
      "[jovian] Detected Colab notebook...\u001b[0m\n",
      "[jovian] jovian.commit() is no longer required on Google Colab. If you ran this notebook from Jovian, \n",
      "then just save this file in Colab using Ctrl+S/Cmd+S and it will be updated on Jovian. \n",
      "Also, you can also delete this cell, it's no longer necessary.\u001b[0m\n"
     ]
    }
   ],
   "source": [
    "jovian.commit(project=project_name,environment=None)"
   ]
  },
  {
   "cell_type": "markdown",
   "metadata": {
    "id": "dI_PNdnWZv8-"
   },
   "source": [
    "## Problem 3 - Conditions and loops\n",
    "\n",
    "**Q10: Calculate and display the sum of all the numbers divisible by 7 between 18 and 534 i.e. `21+28+35+...+525+532`**.\n",
    "\n",
    "*Hint*: One way to do this is to loop over a `range` using `for` and use an `if` statement inside it."
   ]
  },
  {
   "cell_type": "code",
   "execution_count": 29,
   "metadata": {
    "executionInfo": {
     "elapsed": 7,
     "status": "ok",
     "timestamp": 1681487446665,
     "user": {
      "displayName": "Sheikh Iftekhar Ahmed",
      "userId": "05190100816646482527"
     },
     "user_tz": -360
    },
    "id": "SzcqiZDTZv8-"
   },
   "outputs": [],
   "source": [
    "# store the final answer in this variable\n",
    "sum_of_numbers = 0\n",
    "\n",
    "# perform the calculation here\n",
    "for i in range(19, 535):\n",
    "  if i % 7 == 0:\n",
    "    sum_of_numbers += i"
   ]
  },
  {
   "cell_type": "code",
   "execution_count": 30,
   "metadata": {
    "colab": {
     "base_uri": "https://localhost:8080/"
    },
    "executionInfo": {
     "elapsed": 408,
     "status": "ok",
     "timestamp": 1681487449314,
     "user": {
      "displayName": "Sheikh Iftekhar Ahmed",
      "userId": "05190100816646482527"
     },
     "user_tz": -360
    },
    "id": "HhWHrqxoZv8-",
    "outputId": "cbabab0c-3126-47e0-c90f-9b22485243b7"
   },
   "outputs": [
    {
     "name": "stdout",
     "output_type": "stream",
     "text": [
      "The sum of all the numbers divisible by 7 between 18 and 534 is 20461\n"
     ]
    }
   ],
   "source": [
    "print('The sum of all the numbers divisible by 7 between 18 and 534 is', sum_of_numbers)"
   ]
  },
  {
   "cell_type": "markdown",
   "metadata": {
    "id": "oTi8Dse2Zv8-"
   },
   "source": [
    "If you are not able to figure out the solution to this problem, you can ask for hints on the community forum: https://jovian.ml/forum/t/assignment-1-python-practice/7761 . Remember to save your work before moving forward."
   ]
  },
  {
   "cell_type": "code",
   "execution_count": 31,
   "metadata": {
    "colab": {
     "base_uri": "https://localhost:8080/"
    },
    "executionInfo": {
     "elapsed": 466,
     "status": "ok",
     "timestamp": 1681487460581,
     "user": {
      "displayName": "Sheikh Iftekhar Ahmed",
      "userId": "05190100816646482527"
     },
     "user_tz": -360
    },
    "id": "VC1tp_SAZv8-",
    "outputId": "c1d760f9-a75a-4ead-d010-c63bc22c40d3"
   },
   "outputs": [
    {
     "name": "stdout",
     "output_type": "stream",
     "text": [
      "[jovian] Detected Colab notebook...\u001b[0m\n",
      "[jovian] jovian.commit() is no longer required on Google Colab. If you ran this notebook from Jovian, \n",
      "then just save this file in Colab using Ctrl+S/Cmd+S and it will be updated on Jovian. \n",
      "Also, you can also delete this cell, it's no longer necessary.\u001b[0m\n"
     ]
    }
   ],
   "source": [
    "jovian.commit(project=project_name,environment=None)"
   ]
  },
  {
   "cell_type": "markdown",
   "metadata": {
    "id": "LE5WJy4UZv8_"
   },
   "source": [
    "## Problem 4 - Flying to the Bahamas\n",
    "\n",
    "**Q11: A travel company wants to fly a plane to the Bahamas. Flying the plane costs 5000 dollars. So far, 29 people have signed up for the trip. If the company charges 200 dollars per ticket, what is the profit made by the company?**\n",
    "\n",
    "Fill in values or arithmetic expressions for the variables below."
   ]
  },
  {
   "cell_type": "code",
   "execution_count": 32,
   "metadata": {
    "executionInfo": {
     "elapsed": 465,
     "status": "ok",
     "timestamp": 1681487511793,
     "user": {
      "displayName": "Sheikh Iftekhar Ahmed",
      "userId": "05190100816646482527"
     },
     "user_tz": -360
    },
    "id": "ta6XWFodZv8_"
   },
   "outputs": [],
   "source": [
    "cost_of_flying_plane = 5000"
   ]
  },
  {
   "cell_type": "code",
   "execution_count": 33,
   "metadata": {
    "executionInfo": {
     "elapsed": 4,
     "status": "ok",
     "timestamp": 1681487513347,
     "user": {
      "displayName": "Sheikh Iftekhar Ahmed",
      "userId": "05190100816646482527"
     },
     "user_tz": -360
    },
    "id": "mxqgW1qOZv8_"
   },
   "outputs": [],
   "source": [
    "number_of_passengers = 29"
   ]
  },
  {
   "cell_type": "code",
   "execution_count": 34,
   "metadata": {
    "executionInfo": {
     "elapsed": 5,
     "status": "ok",
     "timestamp": 1681487515525,
     "user": {
      "displayName": "Sheikh Iftekhar Ahmed",
      "userId": "05190100816646482527"
     },
     "user_tz": -360
    },
    "id": "Z1mbwiyeZv8_"
   },
   "outputs": [],
   "source": [
    "price_of_ticket = 200"
   ]
  },
  {
   "cell_type": "code",
   "execution_count": 35,
   "metadata": {
    "executionInfo": {
     "elapsed": 1,
     "status": "ok",
     "timestamp": 1681487517138,
     "user": {
      "displayName": "Sheikh Iftekhar Ahmed",
      "userId": "05190100816646482527"
     },
     "user_tz": -360
    },
    "id": "QVbDD4ljZv8_"
   },
   "outputs": [],
   "source": [
    "profit = number_of_passengers * price_of_ticket - cost_of_flying_plane"
   ]
  },
  {
   "cell_type": "code",
   "execution_count": 36,
   "metadata": {
    "colab": {
     "base_uri": "https://localhost:8080/"
    },
    "executionInfo": {
     "elapsed": 2,
     "status": "ok",
     "timestamp": 1681487518748,
     "user": {
      "displayName": "Sheikh Iftekhar Ahmed",
      "userId": "05190100816646482527"
     },
     "user_tz": -360
    },
    "id": "G5JoDbnkZv8_",
    "outputId": "846ae427-eeec-43b1-f9e5-d13bd00940ea"
   },
   "outputs": [
    {
     "name": "stdout",
     "output_type": "stream",
     "text": [
      "The company makes of a profit of 800 dollars\n"
     ]
    }
   ],
   "source": [
    "print('The company makes of a profit of {} dollars'.format(profit))"
   ]
  },
  {
   "cell_type": "markdown",
   "metadata": {
    "id": "IRd7CS9xZv8_"
   },
   "source": [
    "**Q11b (Optional): Out of the 29 people who took the flight, only 12 buy tickets to return from the Bahamas on the same plane. If the flying the plane back also costs 5000 dollars, and does the company make an overall profit or loss? The company charges the same fee of 200 dollars per ticket for the return flight.**\n",
    "\n",
    "Use an `if` statement to display the result."
   ]
  },
  {
   "cell_type": "code",
   "execution_count": 38,
   "metadata": {
    "executionInfo": {
     "elapsed": 428,
     "status": "ok",
     "timestamp": 1681487630522,
     "user": {
      "displayName": "Sheikh Iftekhar Ahmed",
      "userId": "05190100816646482527"
     },
     "user_tz": -360
    },
    "id": "TmIKPU9CZv9A"
   },
   "outputs": [],
   "source": [
    "# this is optional\n",
    "new_profit = (number_of_passengers + 12) * price_of_ticket - cost_of_flying_plane * 2"
   ]
  },
  {
   "cell_type": "code",
   "execution_count": 41,
   "metadata": {
    "colab": {
     "base_uri": "https://localhost:8080/"
    },
    "executionInfo": {
     "elapsed": 9,
     "status": "ok",
     "timestamp": 1681487696520,
     "user": {
      "displayName": "Sheikh Iftekhar Ahmed",
      "userId": "05190100816646482527"
     },
     "user_tz": -360
    },
    "id": "ZqSY9VNUZv9A",
    "outputId": "1a8c1d9b-6901-447d-dfbc-7f8c500df7e4"
   },
   "outputs": [
    {
     "name": "stdout",
     "output_type": "stream",
     "text": [
      "The company makes an overall loss of 1800 dollars\n"
     ]
    }
   ],
   "source": [
    "# this is optional\n",
    "if new_profit >= 0:\n",
    "    print(\"The company makes an overall profit of {} dollars\".format(new_profit))\n",
    "else:\n",
    "    print(\"The company makes an overall loss of {} dollars\".format(abs(new_profit)))"
   ]
  },
  {
   "cell_type": "markdown",
   "metadata": {
    "id": "1inFGouYZv9A"
   },
   "source": [
    "Great work so far! Want to take a break? Remember to save and upload your notebook to record your progress."
   ]
  },
  {
   "cell_type": "code",
   "execution_count": 42,
   "metadata": {
    "colab": {
     "base_uri": "https://localhost:8080/"
    },
    "executionInfo": {
     "elapsed": 535,
     "status": "ok",
     "timestamp": 1681487702055,
     "user": {
      "displayName": "Sheikh Iftekhar Ahmed",
      "userId": "05190100816646482527"
     },
     "user_tz": -360
    },
    "id": "piz42mn7Zv9A",
    "outputId": "36f728d6-637c-4a44-d908-92d820edea57"
   },
   "outputs": [
    {
     "name": "stdout",
     "output_type": "stream",
     "text": [
      "[jovian] Detected Colab notebook...\u001b[0m\n",
      "[jovian] jovian.commit() is no longer required on Google Colab. If you ran this notebook from Jovian, \n",
      "then just save this file in Colab using Ctrl+S/Cmd+S and it will be updated on Jovian. \n",
      "Also, you can also delete this cell, it's no longer necessary.\u001b[0m\n"
     ]
    }
   ],
   "source": [
    "jovian.commit(project=project_name,environment=None)"
   ]
  },
  {
   "cell_type": "markdown",
   "metadata": {
    "id": "cutk4Y-pZv9A"
   },
   "source": [
    "## Problem 5 - Twitter Sentiment Analysis\n",
    "\n",
    "Are your ready to perform some *Data Analysis with Python*? In this problem, we'll analyze some fictional tweets and find out whether the overall sentiment of Twitter users is happy or sad. This is a simplified version of an important real world problem called *sentiment analysis*.\n",
    "\n",
    "Before we begin, we need a list of tweets to analyze. We're picking a small number of tweets here, but the exact same analysis can also be done for thousands, or even millions of tweets. The collection of data that we perform analysis on is often called a *dataset*."
   ]
  },
  {
   "cell_type": "code",
   "execution_count": 43,
   "metadata": {
    "executionInfo": {
     "elapsed": 445,
     "status": "ok",
     "timestamp": 1681488148622,
     "user": {
      "displayName": "Sheikh Iftekhar Ahmed",
      "userId": "05190100816646482527"
     },
     "user_tz": -360
    },
    "id": "dRYTs0ktZv9A"
   },
   "outputs": [],
   "source": [
    "tweets = [\n",
    "    \"Wow, what a great day today!! #sunshine\",\n",
    "    \"I feel sad about the things going on around us. #covid19\",\n",
    "    \"I'm really excited to learn Python with @JovianML #zerotopandas\",\n",
    "    \"This is a really nice song. #linkinpark\",\n",
    "    \"The python programming language is useful for data science\",\n",
    "    \"Why do bad things happen to me?\",\n",
    "    \"Apple announces the release of the new iPhone 12. Fans are excited.\",\n",
    "    \"Spent my day with family!! #happy\",\n",
    "    \"Check out my blog post on common string operations in Python. #zerotopandas\",\n",
    "    \"Freecodecamp has great coding tutorials. #skillup\"\n",
    "]"
   ]
  },
  {
   "cell_type": "markdown",
   "metadata": {
    "id": "4gJifcehZv9A"
   },
   "source": [
    "Let's begin by answering a very simple but important question about our dataset.\n",
    "\n",
    "**Q12: How many tweets does the dataset contain?**"
   ]
  },
  {
   "cell_type": "code",
   "execution_count": 44,
   "metadata": {
    "executionInfo": {
     "elapsed": 2,
     "status": "ok",
     "timestamp": 1681488152147,
     "user": {
      "displayName": "Sheikh Iftekhar Ahmed",
      "userId": "05190100816646482527"
     },
     "user_tz": -360
    },
    "id": "G36L894KZv9A"
   },
   "outputs": [],
   "source": [
    "number_of_tweets = len(tweets)"
   ]
  },
  {
   "cell_type": "markdown",
   "metadata": {
    "id": "0iBs3TGxZv9B"
   },
   "source": [
    "Let's create two lists of words: `happy_words` and `sad_words`. We will use these to check if a tweet is happy or sad."
   ]
  },
  {
   "cell_type": "code",
   "execution_count": 45,
   "metadata": {
    "executionInfo": {
     "elapsed": 6,
     "status": "ok",
     "timestamp": 1681488158845,
     "user": {
      "displayName": "Sheikh Iftekhar Ahmed",
      "userId": "05190100816646482527"
     },
     "user_tz": -360
    },
    "id": "biFn0dbSZv9B"
   },
   "outputs": [],
   "source": [
    "happy_words = ['great', 'excited', 'happy', 'nice', 'wonderful', 'amazing', 'good', 'best']"
   ]
  },
  {
   "cell_type": "code",
   "execution_count": 46,
   "metadata": {
    "executionInfo": {
     "elapsed": 2,
     "status": "ok",
     "timestamp": 1681488160320,
     "user": {
      "displayName": "Sheikh Iftekhar Ahmed",
      "userId": "05190100816646482527"
     },
     "user_tz": -360
    },
    "id": "-0B7_xLtZv9B"
   },
   "outputs": [],
   "source": [
    "sad_words = ['sad', 'bad', 'tragic', 'unhappy', 'worst']"
   ]
  },
  {
   "cell_type": "markdown",
   "metadata": {
    "id": "ICWNiVwQZv9B"
   },
   "source": [
    "To identify whether a tweet is happy, we can simply check if contains any of the words from `happy_words`. Here's an example:"
   ]
  },
  {
   "cell_type": "code",
   "execution_count": 47,
   "metadata": {
    "executionInfo": {
     "elapsed": 433,
     "status": "ok",
     "timestamp": 1681488168008,
     "user": {
      "displayName": "Sheikh Iftekhar Ahmed",
      "userId": "05190100816646482527"
     },
     "user_tz": -360
    },
    "id": "pJTrGPx2Zv9B"
   },
   "outputs": [],
   "source": [
    "sample_tweet = tweets[0]"
   ]
  },
  {
   "cell_type": "code",
   "execution_count": 48,
   "metadata": {
    "colab": {
     "base_uri": "https://localhost:8080/",
     "height": 35
    },
    "executionInfo": {
     "elapsed": 15,
     "status": "ok",
     "timestamp": 1681488169655,
     "user": {
      "displayName": "Sheikh Iftekhar Ahmed",
      "userId": "05190100816646482527"
     },
     "user_tz": -360
    },
    "id": "K8V-FhsfZv9B",
    "outputId": "df841911-5f18-482f-96a4-5ce01c9e7870"
   },
   "outputs": [
    {
     "data": {
      "application/vnd.google.colaboratory.intrinsic+json": {
       "type": "string"
      },
      "text/plain": [
       "'Wow, what a great day today!! #sunshine'"
      ]
     },
     "execution_count": 48,
     "metadata": {},
     "output_type": "execute_result"
    }
   ],
   "source": [
    "sample_tweet"
   ]
  },
  {
   "cell_type": "code",
   "execution_count": 49,
   "metadata": {
    "executionInfo": {
     "elapsed": 709,
     "status": "ok",
     "timestamp": 1681488185975,
     "user": {
      "displayName": "Sheikh Iftekhar Ahmed",
      "userId": "05190100816646482527"
     },
     "user_tz": -360
    },
    "id": "MhNSr0O4Zv9B"
   },
   "outputs": [],
   "source": [
    "is_tweet_happy = False\n",
    "\n",
    "# Get a word from happy_words\n",
    "for word in happy_words:\n",
    "    # Check if the tweet contains the word\n",
    "    if word in sample_tweet:\n",
    "        # Word found! Mark the tweet as happy\n",
    "        is_tweet_happy = True"
   ]
  },
  {
   "cell_type": "markdown",
   "metadata": {
    "id": "5oAD6wrBZv9C"
   },
   "source": [
    "Do you understand what we're doing above? \n",
    "\n",
    "> For each word in the list of happy words, we check if is a part of the selected tweet. If the word is indded a part of the tweet, we set the variable `is_tweet_happy` to `True`. "
   ]
  },
  {
   "cell_type": "code",
   "execution_count": 50,
   "metadata": {
    "colab": {
     "base_uri": "https://localhost:8080/"
    },
    "executionInfo": {
     "elapsed": 462,
     "status": "ok",
     "timestamp": 1681488200286,
     "user": {
      "displayName": "Sheikh Iftekhar Ahmed",
      "userId": "05190100816646482527"
     },
     "user_tz": -360
    },
    "id": "qc5WJFXCZv9C",
    "outputId": "d3a641af-aa4f-4e5e-f92a-3b67652ca17b"
   },
   "outputs": [
    {
     "data": {
      "text/plain": [
       "True"
      ]
     },
     "execution_count": 50,
     "metadata": {},
     "output_type": "execute_result"
    }
   ],
   "source": [
    "is_tweet_happy"
   ]
  },
  {
   "cell_type": "markdown",
   "metadata": {
    "id": "WjuSkLu6Zv9C"
   },
   "source": [
    "**Q13: Determine the number of tweets in the dataset that can be classified as happy.**\n",
    "\n",
    "*Hint*: You'll need to use a loop inside another loop to do this. Use the code from the example shown above."
   ]
  },
  {
   "cell_type": "code",
   "execution_count": 51,
   "metadata": {
    "executionInfo": {
     "elapsed": 588,
     "status": "ok",
     "timestamp": 1681488294144,
     "user": {
      "displayName": "Sheikh Iftekhar Ahmed",
      "userId": "05190100816646482527"
     },
     "user_tz": -360
    },
    "id": "QHwjfS10Zv9C"
   },
   "outputs": [],
   "source": [
    "# store the final answer in this variable\n",
    "number_of_happy_tweets = 0\n",
    "\n",
    "# perform the calculations here\n",
    "for i in tweets:\n",
    "  for word in happy_words:\n",
    "    if word in i:\n",
    "        number_of_happy_tweets += 1\n"
   ]
  },
  {
   "cell_type": "code",
   "execution_count": 52,
   "metadata": {
    "colab": {
     "base_uri": "https://localhost:8080/"
    },
    "executionInfo": {
     "elapsed": 3,
     "status": "ok",
     "timestamp": 1681488296572,
     "user": {
      "displayName": "Sheikh Iftekhar Ahmed",
      "userId": "05190100816646482527"
     },
     "user_tz": -360
    },
    "id": "udoOUsvMZv9C",
    "outputId": "f7f9d216-4ed5-44c8-e38b-49d38d5847f1"
   },
   "outputs": [
    {
     "name": "stdout",
     "output_type": "stream",
     "text": [
      "Number of happy tweets: 6\n"
     ]
    }
   ],
   "source": [
    "print(\"Number of happy tweets:\", number_of_happy_tweets)"
   ]
  },
  {
   "cell_type": "markdown",
   "metadata": {
    "id": "eRhL8MuDZv9C"
   },
   "source": [
    "If you are not able to figure out the solution to this problem, you can ask for hints on the community forum: https://jovian.ml/forum/t/assignment-1-python-practice/7761 . Also try adding `print` statements inside your loops to inspect variables and make sure your logic is correct."
   ]
  },
  {
   "cell_type": "markdown",
   "metadata": {
    "id": "gSe_KbtBZv9C"
   },
   "source": [
    "**Q14: What fraction of the total number of tweets are happy?**\n",
    "\n",
    "For example, if 2 out of 10 tweets are happy, then the answer is `2/10` i.e. `0.2`."
   ]
  },
  {
   "cell_type": "code",
   "execution_count": 60,
   "metadata": {
    "executionInfo": {
     "elapsed": 6,
     "status": "ok",
     "timestamp": 1681488416408,
     "user": {
      "displayName": "Sheikh Iftekhar Ahmed",
      "userId": "05190100816646482527"
     },
     "user_tz": -360
    },
    "id": "ZQVzSUNBZv9D"
   },
   "outputs": [],
   "source": [
    "happy_fraction = number_of_happy_tweets / number_of_tweets"
   ]
  },
  {
   "cell_type": "code",
   "execution_count": 54,
   "metadata": {
    "colab": {
     "base_uri": "https://localhost:8080/"
    },
    "executionInfo": {
     "elapsed": 4,
     "status": "ok",
     "timestamp": 1681488330219,
     "user": {
      "displayName": "Sheikh Iftekhar Ahmed",
      "userId": "05190100816646482527"
     },
     "user_tz": -360
    },
    "id": "skpsXzdkZv9D",
    "outputId": "68dffa4e-a83f-4f17-c675-8e8db85f57a3"
   },
   "outputs": [
    {
     "name": "stdout",
     "output_type": "stream",
     "text": [
      "The fraction of happy tweets is: 0.6\n"
     ]
    }
   ],
   "source": [
    "print(\"The fraction of happy tweets is:\", happy_fraction)"
   ]
  },
  {
   "cell_type": "markdown",
   "metadata": {
    "id": "WIYRYMI1Zv9D"
   },
   "source": [
    "To identify whether a tweet is sad, we can simply check if contains any of the words from `sad_words`.\n",
    "\n",
    "**Q15: Determine the number of tweets in the dataset that can be classified as sad.**"
   ]
  },
  {
   "cell_type": "code",
   "execution_count": 55,
   "metadata": {
    "executionInfo": {
     "elapsed": 6,
     "status": "ok",
     "timestamp": 1681488368161,
     "user": {
      "displayName": "Sheikh Iftekhar Ahmed",
      "userId": "05190100816646482527"
     },
     "user_tz": -360
    },
    "id": "Z7xulp_NZv9D"
   },
   "outputs": [],
   "source": [
    "# store the final answer in this variable\n",
    "number_of_sad_tweets = 0\n",
    "\n",
    "# perform the calculations here\n",
    "for i in tweets:\n",
    "  for word in sad_words:\n",
    "    if word in i:\n",
    "        number_of_sad_tweets += 1"
   ]
  },
  {
   "cell_type": "code",
   "execution_count": 56,
   "metadata": {
    "colab": {
     "base_uri": "https://localhost:8080/"
    },
    "executionInfo": {
     "elapsed": 723,
     "status": "ok",
     "timestamp": 1681488372284,
     "user": {
      "displayName": "Sheikh Iftekhar Ahmed",
      "userId": "05190100816646482527"
     },
     "user_tz": -360
    },
    "id": "bLkdov94Zv9D",
    "outputId": "f4e2498f-3a17-4ace-9999-484604a9d1b2"
   },
   "outputs": [
    {
     "name": "stdout",
     "output_type": "stream",
     "text": [
      "Number of sad tweets: 2\n"
     ]
    }
   ],
   "source": [
    "print(\"Number of sad tweets:\", number_of_sad_tweets)"
   ]
  },
  {
   "cell_type": "markdown",
   "metadata": {
    "id": "CM_zP-viZv9D"
   },
   "source": [
    "**Q16: What fraction of the total number of tweets are sad?**"
   ]
  },
  {
   "cell_type": "code",
   "execution_count": 58,
   "metadata": {
    "executionInfo": {
     "elapsed": 2,
     "status": "ok",
     "timestamp": 1681488404379,
     "user": {
      "displayName": "Sheikh Iftekhar Ahmed",
      "userId": "05190100816646482527"
     },
     "user_tz": -360
    },
    "id": "ePlrRgp9Zv9D"
   },
   "outputs": [],
   "source": [
    "sad_fraction = number_of_sad_tweets / number_of_tweets"
   ]
  },
  {
   "cell_type": "code",
   "execution_count": 59,
   "metadata": {
    "colab": {
     "base_uri": "https://localhost:8080/"
    },
    "executionInfo": {
     "elapsed": 6,
     "status": "ok",
     "timestamp": 1681488406202,
     "user": {
      "displayName": "Sheikh Iftekhar Ahmed",
      "userId": "05190100816646482527"
     },
     "user_tz": -360
    },
    "id": "IQPhVAi1Zv9D",
    "outputId": "114ad74b-8a7a-426d-a22b-97001d53b956"
   },
   "outputs": [
    {
     "name": "stdout",
     "output_type": "stream",
     "text": [
      "The fraction of sad tweets is: 0.2\n"
     ]
    }
   ],
   "source": [
    "print(\"The fraction of sad tweets is:\", sad_fraction)"
   ]
  },
  {
   "cell_type": "markdown",
   "metadata": {
    "id": "kLeCkvsTZv9E"
   },
   "source": [
    "The rest of this problem is optional. Let's save your work before continuing."
   ]
  },
  {
   "cell_type": "code",
   "execution_count": 61,
   "metadata": {
    "colab": {
     "base_uri": "https://localhost:8080/"
    },
    "executionInfo": {
     "elapsed": 435,
     "status": "ok",
     "timestamp": 1681488422524,
     "user": {
      "displayName": "Sheikh Iftekhar Ahmed",
      "userId": "05190100816646482527"
     },
     "user_tz": -360
    },
    "id": "mBaBWI85Zv9E",
    "outputId": "e133f298-6e78-4885-e433-9908fc74ed5d"
   },
   "outputs": [
    {
     "name": "stdout",
     "output_type": "stream",
     "text": [
      "[jovian] Detected Colab notebook...\u001b[0m\n",
      "[jovian] jovian.commit() is no longer required on Google Colab. If you ran this notebook from Jovian, \n",
      "then just save this file in Colab using Ctrl+S/Cmd+S and it will be updated on Jovian. \n",
      "Also, you can also delete this cell, it's no longer necessary.\u001b[0m\n"
     ]
    }
   ],
   "source": [
    "jovian.commit(project=project_name,environment=None)"
   ]
  },
  {
   "cell_type": "markdown",
   "metadata": {
    "id": "Nsnu5mfZZv9E"
   },
   "source": [
    "Great work, even with some basic analysis, we already know a lot about the sentiment of the tweets given to us. Let us now define a metric called \"sentiment score\", to summarize the overall sentiment of the tweets.\n",
    "\n",
    "**Q16b (Optional): Calculate the sentiment score, which is defined as the difference betweek the fraction of happy tweets and the fraction of sad tweets.**"
   ]
  },
  {
   "cell_type": "code",
   "execution_count": 62,
   "metadata": {
    "executionInfo": {
     "elapsed": 1,
     "status": "ok",
     "timestamp": 1681488455889,
     "user": {
      "displayName": "Sheikh Iftekhar Ahmed",
      "userId": "05190100816646482527"
     },
     "user_tz": -360
    },
    "id": "4rdAuNwDZv9E"
   },
   "outputs": [],
   "source": [
    "sentiment_score = happy_fraction - sad_fraction"
   ]
  },
  {
   "cell_type": "code",
   "execution_count": 63,
   "metadata": {
    "colab": {
     "base_uri": "https://localhost:8080/"
    },
    "executionInfo": {
     "elapsed": 2,
     "status": "ok",
     "timestamp": 1681488458268,
     "user": {
      "displayName": "Sheikh Iftekhar Ahmed",
      "userId": "05190100816646482527"
     },
     "user_tz": -360
    },
    "id": "xLJfqgL6Zv9E",
    "outputId": "7c07bd8c-e182-42c0-9370-a8c4c0990be4"
   },
   "outputs": [
    {
     "name": "stdout",
     "output_type": "stream",
     "text": [
      "The sentiment score for the given tweets is 0.39999999999999997\n"
     ]
    }
   ],
   "source": [
    "print(\"The sentiment score for the given tweets is\", sentiment_score)"
   ]
  },
  {
   "cell_type": "markdown",
   "metadata": {
    "id": "W8gJk5unZv9E"
   },
   "source": [
    "In a real world scenario, we could calculate & record the sentiment score for all the tweets sent out every day. This information can be used to plot a graph and study the trends in the changing sentiment of the world. The following graph was creating using the Python data visualization library `matplotlib`, which we'll cover later in the course.\n",
    "\n",
    "<img src=\"https://i.imgur.com/6CCIwCb.png\" style=\"width:400px\">\n",
    "\n",
    "What does the sentiment score represent? Based on the value of the sentiment score, can you identify if the overall sentiment of the dataset is happy or sad?\n",
    "\n",
    "**Q16c (Optional): Display whether the overall sentiment of the given dataset of tweets is happy or sad, using the sentiment score.**"
   ]
  },
  {
   "cell_type": "code",
   "execution_count": 64,
   "metadata": {
    "colab": {
     "base_uri": "https://localhost:8080/"
    },
    "executionInfo": {
     "elapsed": 425,
     "status": "ok",
     "timestamp": 1681488517864,
     "user": {
      "displayName": "Sheikh Iftekhar Ahmed",
      "userId": "05190100816646482527"
     },
     "user_tz": -360
    },
    "id": "heQMAhw3Zv9E",
    "outputId": "c60a7c78-05e0-4a46-f64c-c964f0d99137"
   },
   "outputs": [
    {
     "name": "stdout",
     "output_type": "stream",
     "text": [
      "The overall sentiment is happy\n"
     ]
    }
   ],
   "source": [
    "if sentiment_score >= 0:\n",
    "    print(\"The overall sentiment is happy\")\n",
    "else:\n",
    "    print(\"The overall sentiment is sad\")"
   ]
  },
  {
   "cell_type": "markdown",
   "metadata": {
    "id": "EGdORUMRZv9F"
   },
   "source": [
    "Finally, it's also important to track how many tweets are neutral i.e. neither happy nor sad. If a large fraction of tweets are marked neutral, maybe we need to improve our lists of happy and sad words. \n",
    "\n",
    "**Q16d (Optional): What is the fraction of tweets that are neutral i.e. neither happy nor sad.**"
   ]
  },
  {
   "cell_type": "code",
   "execution_count": 65,
   "metadata": {
    "executionInfo": {
     "elapsed": 5,
     "status": "ok",
     "timestamp": 1681488585645,
     "user": {
      "displayName": "Sheikh Iftekhar Ahmed",
      "userId": "05190100816646482527"
     },
     "user_tz": -360
    },
    "id": "re2uWYn1Zv9F"
   },
   "outputs": [],
   "source": [
    "# store the final answer in this variable\n",
    "number_of_neutral_tweets = 0\n",
    "\n",
    "# perform the calculation here\n",
    "number_of_neutral_tweets = number_of_tweets - number_of_sad_tweets - number_of_happy_tweets"
   ]
  },
  {
   "cell_type": "code",
   "execution_count": 66,
   "metadata": {
    "executionInfo": {
     "elapsed": 2,
     "status": "ok",
     "timestamp": 1681488595745,
     "user": {
      "displayName": "Sheikh Iftekhar Ahmed",
      "userId": "05190100816646482527"
     },
     "user_tz": -360
    },
    "id": "b5L29O9vZv9F"
   },
   "outputs": [],
   "source": [
    "neutral_fraction = number_of_neutral_tweets / number_of_tweets"
   ]
  },
  {
   "cell_type": "code",
   "execution_count": 67,
   "metadata": {
    "colab": {
     "base_uri": "https://localhost:8080/"
    },
    "executionInfo": {
     "elapsed": 2,
     "status": "ok",
     "timestamp": 1681488597913,
     "user": {
      "displayName": "Sheikh Iftekhar Ahmed",
      "userId": "05190100816646482527"
     },
     "user_tz": -360
    },
    "id": "4PmvPi5DZv9F",
    "outputId": "dcff1c23-0b52-4c76-fa2c-f46a7afe257b"
   },
   "outputs": [
    {
     "name": "stdout",
     "output_type": "stream",
     "text": [
      "The fraction of neutral tweets is 0.2\n"
     ]
    }
   ],
   "source": [
    "print('The fraction of neutral tweets is', neutral_fraction)"
   ]
  },
  {
   "cell_type": "markdown",
   "metadata": {
    "id": "nc6L-kWsZv9G"
   },
   "source": [
    "Ponder upon these questions and try some experiments to hone your skills further:\n",
    "\n",
    "* What are the limitations of our approach? When will it go wrong or give incorrect results?\n",
    "* How can we improve our approach to address the limitations?\n",
    "* What are some other questions you would like to ask, given a list of tweets?\n",
    "* Try collecting some real tweets from your Twitter timeline and repeat this analysis. Do the results make sense?\n",
    "\n",
    "**IMPORTANT NOTE**: If you want to try out these experiments, please create a new notebook using the \"New Notebook\" button on your Jovian.ml profile, to avoid making unintended changes to your assignment submission notebook."
   ]
  },
  {
   "cell_type": "markdown",
   "metadata": {
    "id": "rvmUQdyrZv9G"
   },
   "source": [
    "## Submission \n",
    "\n",
    "Congratulations on making it this far! You've reached the end of this assignment, and you just completed your first data analysis problem. It's time to record one final version of your notebook for submission.\n",
    "\n",
    "Make a submission here by filling the submission form: https://jovian.ml/learn/data-analysis-with-python-zero-to-pandas/assignment/assignment-1-python-basics-practice"
   ]
  },
  {
   "cell_type": "code",
   "execution_count": 68,
   "metadata": {
    "colab": {
     "base_uri": "https://localhost:8080/"
    },
    "executionInfo": {
     "elapsed": 424,
     "status": "ok",
     "timestamp": 1681488642628,
     "user": {
      "displayName": "Sheikh Iftekhar Ahmed",
      "userId": "05190100816646482527"
     },
     "user_tz": -360
    },
    "id": "9k9OVRDSZv9G",
    "outputId": "2594fe00-ab83-46c6-d399-7c1ee31b8a17",
    "scrolled": false
   },
   "outputs": [
    {
     "name": "stdout",
     "output_type": "stream",
     "text": [
      "[jovian] Detected Colab notebook...\u001b[0m\n",
      "[jovian] jovian.commit() is no longer required on Google Colab. If you ran this notebook from Jovian, \n",
      "then just save this file in Colab using Ctrl+S/Cmd+S and it will be updated on Jovian. \n",
      "Also, you can also delete this cell, it's no longer necessary.\u001b[0m\n"
     ]
    }
   ],
   "source": [
    "jovian.commit(project=project_name,environment=None)"
   ]
  }
 ],
 "metadata": {
  "colab": {
   "provenance": []
  },
  "language_info": {
   "codemirror_mode": {
    "name": "ipython",
    "version": 3
   },
   "file_extension": ".py",
   "mimetype": "text/x-python",
   "name": "python",
   "nbconvert_exporter": "python",
   "pygments_lexer": "ipython3",
   "version": "3.6.13"
  }
 },
 "nbformat": 4,
 "nbformat_minor": 0
}